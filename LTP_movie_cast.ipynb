{
  "nbformat": 4,
  "nbformat_minor": 0,
  "metadata": {
    "accelerator": "GPU",
    "colab": {
      "name": "LTP_movie_cast.ipynb",
      "provenance": [],
      "collapsed_sections": []
    },
    "kernelspec": {
      "display_name": "Python 3",
      "name": "python3"
    },
    "language_info": {
      "name": "python"
    }
  },
  "cells": [
    {
      "cell_type": "code",
      "metadata": {
        "id": "MhCFlssqLi-m"
      },
      "source": [
        "#!kill -9 -1"
      ],
      "execution_count": 1,
      "outputs": []
    },
    {
      "cell_type": "code",
      "metadata": {
        "id": "nvT2q3FZjdzc"
      },
      "source": [
        "import numpy as np\n",
        "import pandas as pd\n",
        "import os, json, gc, re, random\n",
        "from tqdm.notebook import tqdm\n",
        "from sklearn.preprocessing import LabelEncoder\n",
        "from sklearn.model_selection import train_test_split\n",
        "from sklearn.metrics import confusion_matrix\n",
        "\n",
        "import matplotlib.pyplot as plt\n",
        "import plotly.express as px\n",
        "import seaborn as sns\n",
        "\n",
        "import warnings\n",
        "warnings.filterwarnings(\"ignore\")\n",
        "\n",
        "import logging\n",
        "logging.basicConfig(level=logging.INFO)\n",
        "transformers_logger = logging.getLogger(\"transformers\")\n",
        "transformers_logger.setLevel(logging.WARNING)"
      ],
      "execution_count": 2,
      "outputs": []
    },
    {
      "cell_type": "code",
      "metadata": {
        "colab": {
          "base_uri": "https://localhost:8080/"
        },
        "id": "_lNqjlwvjjLF",
        "outputId": "8f38550a-e534-42d4-e073-c6914c8739c0"
      },
      "source": [
        "\n",
        "#%%time\n",
        "\n",
        "\n",
        "!pip uninstall -q torch -y\n",
        "# \n",
        "!python3 -m pip install -q torch==1.6.0 -f https://download.pytorch.org/whl/torch_stable.html\n",
        "!python3 -m pip install -q -U tokenizers==0.7.0 > /dev/null\n",
        "!python3 -m pip install -q -U transformers==3.0.2 > /dev/null\n",
        "!python3 -m pip install -q -U simpletransformers==0.46.0 > /dev/null\n"
      ],
      "execution_count": null,
      "outputs": [
        {
          "output_type": "stream",
          "text": [
            "\u001b[K     |████████████████████████████████| 552.8MB 32kB/s \n",
            "\u001b[31mERROR: torchvision 0.9.1+cu101 has requirement torch==1.8.1, but you'll have torch 1.6.0+cu92 which is incompatible.\u001b[0m\n",
            "\u001b[31mERROR: torchtext 0.9.1 has requirement torch==1.8.1, but you'll have torch 1.6.0+cu92 which is incompatible.\u001b[0m\n",
            "\u001b[?25h"
          ],
          "name": "stdout"
        }
      ]
    },
    {
      "cell_type": "code",
      "metadata": {
        "id": "u-u_7GO9VuvO"
      },
      "source": [
        "#!pip install torch==1.6.0 -f https://download.pytorch.org/whl/torch_stable.html"
      ],
      "execution_count": null,
      "outputs": []
    },
    {
      "cell_type": "code",
      "metadata": {
        "id": "3MgL3SaBjjZp"
      },
      "source": [
        "import torch, transformers, tokenizers\n",
        "torch.__version__, transformers.__version__, tokenizers.__version__"
      ],
      "execution_count": null,
      "outputs": []
    },
    {
      "cell_type": "code",
      "metadata": {
        "id": "P7rp2cu7pbwX"
      },
      "source": [
        "cast_df = pd.read_csv(\"/content/drive/MyDrive/Colab Notebooks/LTP/plots_train.csv\", delimiter = ',')\n",
        "cast_test = pd.read_csv(\"/content/drive/MyDrive/Colab Notebooks/LTP/plots_test.csv\", delimiter = ',')\n",
        "cast_valid = pd.read_csv(\"/content/drive/MyDrive/Colab Notebooks/LTP/plots_valid.csv\", delimiter = ',')\n"
      ],
      "execution_count": null,
      "outputs": []
    },
    {
      "cell_type": "code",
      "metadata": {
        "id": "sHvaDWV2pl1M"
      },
      "source": [
        "cast_df.columns = ['cast','Plot']\n",
        "cast_test.columns = ['cast','Plot']\n",
        "cast_valid.columns = ['cast','Plot']"
      ],
      "execution_count": null,
      "outputs": []
    },
    {
      "cell_type": "code",
      "metadata": {
        "id": "oP46Y7txqdAM"
      },
      "source": [
        "print(cast_df.head())"
      ],
      "execution_count": null,
      "outputs": []
    },
    {
      "cell_type": "code",
      "metadata": {
        "id": "j7A-esERjjlr"
      },
      "source": [
        "cast_counts = cast_df.groupby('cast').count().iloc[:,0]"
      ],
      "execution_count": null,
      "outputs": []
    },
    {
      "cell_type": "code",
      "metadata": {
        "id": "MJ4wJe69qy5g"
      },
      "source": [
        "print(cast_counts)"
      ],
      "execution_count": null,
      "outputs": []
    },
    {
      "cell_type": "code",
      "metadata": {
        "id": "4848Uj0J0XBu"
      },
      "source": [
        "#!python3 -m pip install simpletransformers"
      ],
      "execution_count": null,
      "outputs": []
    },
    {
      "cell_type": "code",
      "metadata": {
        "id": "92koOrNHjjpo"
      },
      "source": [
        "from simpletransformers.classification import ClassificationModel\n",
        "\n",
        "model_args = {\n",
        "    \"reprocess_input_data\": True,\n",
        "    \"overwrite_output_dir\": True,\n",
        "    \"save_model_every_epoch\": False,\n",
        "    \"save_eval_checkpoints\": False,\n",
        "    \"use_cuda\" : True,\n",
        "    \"max_seq_length\": 512,\n",
        "    \"train_batch_size\": 16,\n",
        "    \"num_train_epochs\": 4,\n",
        "}\n",
        "\n",
        "# Create a ClassificationModel\n",
        "# model = ClassificationModel(\"roberta\", \"roberta-base\", num_labels=len(cast_counts), args=model_args)\n",
        "model = ClassificationModel(\"longformer\", \"allenai/longformer-base-4096\", num_labels=len(cast_counts), args=model_args)\n",
        "# model = ClassificationModel(\"xlnet\", \"xlnet-base-cased\", num_labels=len(cast_counts), args=model_args)\n"
      ],
      "execution_count": null,
      "outputs": []
    },
    {
      "cell_type": "code",
      "metadata": {
        "id": "q6uQ1R3ajjre"
      },
      "source": [
        "train_df = cast_df\n",
        "eval_df = cast_test\n",
        "\n",
        "# Train the model\n",
        "model.train_model(train_df[[\"Plot\", \"cast\"]])\n",
        "\n",
        "# Evaluate the model\n",
        "result, model_outputs, wrong_predictions = model.eval_model(eval_df[[\"Plot\", \"cast\"]])\n",
        "print(result)\n",
        "\n"
      ],
      "execution_count": null,
      "outputs": []
    },
    {
      "cell_type": "code",
      "metadata": {
        "id": "EO1iOk6NvpG6"
      },
      "source": [
        "\n",
        "predicted_genres_encoded = list(map(lambda x: np.argmax(x), model_outputs))\n",
        "print(predicted_genres_encoded)"
      ],
      "execution_count": null,
      "outputs": []
    },
    {
      "cell_type": "code",
      "metadata": {
        "id": "3yvNk8ZWjjtb"
      },
      "source": [
        "\n",
        "label_encoder = LabelEncoder()\n",
        "\n",
        "predicted_genres = list(map(lambda x: np.argmax(x), model_outputs))\n",
        "eval_gt_labels = eval_df[\"cast\"].tolist()\n",
        "class_labels = list(range(len(cast_counts)))\n",
        "\n",
        "\n",
        "plt.figure(figsize=(22,18))\n",
        "cf_matrix = confusion_matrix(predicted_genres, eval_gt_labels, class_labels)\n",
        "ax = sns.heatmap(cf_matrix/np.sum(cf_matrix), annot=True, cmap=\"YlGnBu\")\n",
        "ax.set_xlabel('Predicted cast', fontsize=20)\n",
        "ax.set_ylabel('True cast', fontsize=20)\n",
        "ax.set_title('Confusion Matrix', fontsize=20)\n",
        "ax.set_xticklabels(class_labels, rotation=90, fontsize=18)\n",
        "ax.set_yticklabels(class_labels, rotation=0, fontsize=18)\n",
        "\n",
        "plt.show()"
      ],
      "execution_count": null,
      "outputs": []
    },
    {
      "cell_type": "code",
      "metadata": {
        "id": "bswcVwBSjjxj"
      },
      "source": [
        "random_idx = random.randint(0, len(eval_df)-1)\n",
        "text = eval_df.iloc[random_idx]['Plot']\n",
        "true_genre = eval_df.iloc[random_idx]['cast']\n",
        "\n",
        "# Predict with trained multiclass classification model\n",
        "predicted_genres_example, raw_outputs = model.predict([text])\n",
        "predicted_genres_example = np.array(predicted_genres_example)\n",
        "\n",
        "print(f'\\nTrue Genre:'.ljust(16,' '), f'{true_genre}\\n')\n",
        "print(f'Predicted Genre: {predicted_genres_example[0]}\\n')\n",
        "print(f'Plot: {text}\\n')\n",
        "print(\"-------------------------------------------\")"
      ],
      "execution_count": null,
      "outputs": []
    },
    {
      "cell_type": "code",
      "metadata": {
        "id": "5x6jAkh8wmaa"
      },
      "source": [
        "print(len(predicted_genres))\n",
        "print(len(eval_gt_labels))"
      ],
      "execution_count": null,
      "outputs": []
    },
    {
      "cell_type": "code",
      "metadata": {
        "id": "qNLkkqI7jj0P"
      },
      "source": [
        "num = 0\n",
        "den = 0\n",
        "for i in range(len(eval_gt_labels)):\n",
        "  if predicted_genres[i] == eval_gt_labels[i]:\n",
        "    num += 1\n",
        "  den += 1\n",
        "\n",
        "print(num/den)"
      ],
      "execution_count": null,
      "outputs": []
    },
    {
      "cell_type": "code",
      "metadata": {
        "id": "T8rkYzpQceLz"
      },
      "source": [
        ""
      ],
      "execution_count": null,
      "outputs": []
    }
  ]
}