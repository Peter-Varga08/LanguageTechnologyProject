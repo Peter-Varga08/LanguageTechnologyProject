{
  "nbformat": 4,
  "nbformat_minor": 0,
  "metadata": {
    "accelerator": "GPU",
    "colab": {
      "name": "LTP_movie2.ipynb",
      "provenance": [],
      "collapsed_sections": []
    },
    "kernelspec": {
      "display_name": "Python 3",
      "name": "python3"
    },
    "language_info": {
      "name": "python"
    }
  },
  "cells": [
    {
      "cell_type": "code",
      "metadata": {
        "id": "MhCFlssqLi-m"
      },
      "source": [
        "#!kill -9 -1"
      ],
      "execution_count": null,
      "outputs": []
    },
    {
      "cell_type": "code",
      "metadata": {
        "id": "nvT2q3FZjdzc"
      },
      "source": [
        "import numpy as np\n",
        "import pandas as pd\n",
        "import os, json, gc, re, random\n",
        "from tqdm.notebook import tqdm\n",
        "from sklearn.preprocessing import LabelEncoder\n",
        "from sklearn.model_selection import train_test_split\n",
        "from sklearn.metrics import confusion_matrix\n",
        "\n",
        "import matplotlib.pyplot as plt\n",
        "import plotly.express as px\n",
        "import seaborn as sns\n",
        "\n",
        "import warnings\n",
        "warnings.filterwarnings(\"ignore\")\n",
        "\n",
        "import logging\n",
        "logging.basicConfig(level=logging.INFO)\n",
        "transformers_logger = logging.getLogger(\"transformers\")\n",
        "transformers_logger.setLevel(logging.WARNING)"
      ],
      "execution_count": null,
      "outputs": []
    },
    {
      "cell_type": "code",
      "metadata": {
        "id": "_lNqjlwvjjLF"
      },
      "source": [
        "\n",
        "#%%time\n",
        "\n",
        "\n",
        "!pip uninstall -q torch -y\n",
        "# \n",
        "!python3 -m pip install -q torch==1.6.0 -f https://download.pytorch.org/whl/torch_stable.html\n",
        "!python3 -m pip install -q -U tokenizers==0.7.0 > /dev/null\n",
        "!python3 -m pip install -q -U transformers==3.0.2 > /dev/null\n",
        "!python3 -m pip install -q -U simpletransformers==0.46.0 > /dev/null\n"
      ],
      "execution_count": null,
      "outputs": []
    },
    {
      "cell_type": "code",
      "metadata": {
        "id": "u-u_7GO9VuvO"
      },
      "source": [
        "#!pip install torch==1.6.0 -f https://download.pytorch.org/whl/torch_stable.html"
      ],
      "execution_count": null,
      "outputs": []
    },
    {
      "cell_type": "code",
      "metadata": {
        "colab": {
          "base_uri": "https://localhost:8080/"
        },
        "id": "3MgL3SaBjjZp",
        "outputId": "c9e50781-1c3f-439f-dcdc-663a681ea3b9"
      },
      "source": [
        "import torch, transformers, tokenizers\n",
        "torch.__version__, transformers.__version__, tokenizers.__version__"
      ],
      "execution_count": null,
      "outputs": [
        {
          "output_type": "stream",
          "text": [
            "\u001b[34m\u001b[1mwandb\u001b[0m: \u001b[33mWARNING\u001b[0m W&B installed but not logged in.  Run `wandb login` or set the WANDB_API_KEY env variable.\n"
          ],
          "name": "stderr"
        },
        {
          "output_type": "execute_result",
          "data": {
            "text/plain": [
              "('1.6.0+cu92', '3.0.2', '0.8.1.rc1')"
            ]
          },
          "metadata": {
            "tags": []
          },
          "execution_count": 5
        }
      ]
    },
    {
      "cell_type": "code",
      "metadata": {
        "id": "SxQPE_dYjjfa"
      },
      "source": [
        "movies_df = pd.read_csv(\"/content/drive/MyDrive/Colab Notebooks/LTP/wiki_movie_plots_deduped.csv\")"
      ],
      "execution_count": null,
      "outputs": []
    },
    {
      "cell_type": "code",
      "metadata": {
        "id": "tq0wjljkjjh8"
      },
      "source": [
        "genre_counts = movies_df.groupby('Genre').count().iloc[:,0]\n"
      ],
      "execution_count": null,
      "outputs": []
    },
    {
      "cell_type": "code",
      "metadata": {
        "colab": {
          "base_uri": "https://localhost:8080/"
        },
        "id": "-XIG_CjGjjj3",
        "outputId": "4e982946-be1d-486d-836b-2f1cec722235"
      },
      "source": [
        "#data pre-processing\n",
        "\n",
        "movies_df = movies_df[(movies_df[\"Origin/Ethnicity\"]==\"American\") | (movies_df[\"Origin/Ethnicity\"]==\"British\")]\n",
        "movies_df = movies_df[[\"Plot\", \"Genre\"]]\n",
        "drop_indices = movies_df[movies_df[\"Genre\"] == \"unknown\" ].index\n",
        "movies_df.drop(drop_indices, inplace=True)\n",
        "\n",
        "# Combine genres: 1) \"sci-fi\" with \"science fiction\" &  2) \"romantic comedy\" with \"romance\"\n",
        "movies_df[\"Genre\"].replace({\"sci-fi\": \"science fiction\", \"romantic comedy\": \"romance\"}, inplace=True)\n",
        "\n",
        "# Choosing movie genres based on their frequency\n",
        "shortlisted_genres = movies_df[\"Genre\"].value_counts().reset_index(name=\"count\").query(\"count > 200\")[\"index\"].tolist()\n",
        "movies_df = movies_df[movies_df[\"Genre\"].isin(shortlisted_genres)].reset_index(drop=True)\n",
        "\n",
        "# Shuffle DataFrame\n",
        "movies_df = movies_df.sample(frac=1).reset_index(drop=True)\n",
        "\n",
        "# Sample roughly equal number of movie plots from different genres (to reduce class imbalance issues)\n",
        "movies_df = movies_df.groupby(\"Genre\").head(400).reset_index(drop=True)\n",
        "\n",
        "label_encoder = LabelEncoder()\n",
        "movies_df[\"genre_encoded\"] = label_encoder.fit_transform(movies_df[\"Genre\"].tolist())\n",
        "\n",
        "movies_df = movies_df[[\"Plot\", \"Genre\", \"genre_encoded\"]]"
      ],
      "execution_count": null,
      "outputs": [
        {
          "output_type": "stream",
          "text": [
            "INFO:numexpr.utils:NumExpr defaulting to 2 threads.\n"
          ],
          "name": "stderr"
        }
      ]
    },
    {
      "cell_type": "code",
      "metadata": {
        "id": "j7A-esERjjlr"
      },
      "source": [
        "genre_counts = movies_df.groupby('Genre').count().iloc[:,0]"
      ],
      "execution_count": null,
      "outputs": []
    },
    {
      "cell_type": "code",
      "metadata": {
        "id": "4848Uj0J0XBu"
      },
      "source": [
        "#!python3 -m pip install simpletransformers"
      ],
      "execution_count": null,
      "outputs": []
    },
    {
      "cell_type": "code",
      "metadata": {
        "id": "92koOrNHjjpo"
      },
      "source": [
        "from simpletransformers.classification import ClassificationModel\n",
        "\n",
        "model_args = {\n",
        "    \"reprocess_input_data\": True,\n",
        "    \"overwrite_output_dir\": True,\n",
        "    \"save_model_every_epoch\": False,\n",
        "    \"save_eval_checkpoints\": False,\n",
        "    \"use_cuda\" : False,\n",
        "    \"max_seq_length\": 512,\n",
        "    \"train_batch_size\": 16,\n",
        "    \"num_train_epochs\": 4,\n",
        "}\n",
        "\n",
        "# Create a ClassificationModel\n",
        "#model = ClassificationModel(\"roberta\", \"roberta-base\", num_labels=len(shortlisted_genres), args=model_args)\n",
        "model = ClassificationModel(\"longformer\", \"allenai/longformer-base-4096\", num_labels=len(shortlisted_genres), args=model_args, use_cuda = False)\n",
        "#model = ClassificationModel(\"xlnet\", \"xlnet-base-cased\", num_labels=len(shortlisted_genres), args=model_args)\n"
      ],
      "execution_count": null,
      "outputs": []
    },
    {
      "cell_type": "code",
      "metadata": {
        "id": "q6uQ1R3ajjre"
      },
      "source": [
        "#torch.cuda.empty_cache()\n",
        "\n",
        "train_df, eval_df = train_test_split(movies_df, test_size=0.2, stratify=movies_df[\"Genre\"], random_state=42)\n",
        "\n",
        "# Train the model\n",
        "model.train_model(train_df[[\"Plot\", \"genre_encoded\"]])\n",
        "\n",
        "# Evaluate the model\n",
        "result, model_outputs, wrong_predictions = model.eval_model(eval_df[[\"Plot\", \"genre_encoded\"]])\n",
        "print(result)\n",
        "\n"
      ],
      "execution_count": null,
      "outputs": []
    },
    {
      "cell_type": "code",
      "metadata": {
        "id": "3yvNk8ZWjjtb"
      },
      "source": [
        "predicted_genres_encoded = list(map(lambda x: np.argmax(x), model_outputs))\n",
        "predicted_genres = list(label_encoder.inverse_transform(predicted_genres_encoded))\n",
        "eval_gt_labels = eval_df[\"Genre\"].tolist()\n",
        "class_labels = list(label_encoder.classes_)\n",
        "\n",
        "plt.figure(figsize=(22,18))\n",
        "cf_matrix = confusion_matrix(predicted_genres, eval_gt_labels, class_labels)\n",
        "ax = sns.heatmap(cf_matrix/np.sum(cf_matrix), annot=True, cmap=\"YlGnBu\")\n",
        "ax.set_xlabel('Predicted Genres', fontsize=20)\n",
        "ax.set_ylabel('True Genres', fontsize=20)\n",
        "ax.set_title('Confusion Matrix', fontsize=20)\n",
        "ax.set_xticklabels(class_labels, rotation=90, fontsize=18)\n",
        "ax.set_yticklabels(class_labels, rotation=0, fontsize=18)\n",
        "\n",
        "plt.show()"
      ],
      "execution_count": null,
      "outputs": []
    },
    {
      "cell_type": "code",
      "metadata": {
        "id": "bswcVwBSjjxj"
      },
      "source": [
        "random_idx = random.randint(0, len(eval_df)-1)\n",
        "text = eval_df.iloc[random_idx]['Plot']\n",
        "true_genre = eval_df.iloc[random_idx]['Genre']\n",
        "\n",
        "# Predict with trained multiclass classification model\n",
        "predicted_genre_encoded, raw_outputs = model.predict([text])\n",
        "predicted_genre_encoded = np.array(predicted_genre_encoded)\n",
        "predicted_genre = label_encoder.inverse_transform(predicted_genre_encoded)[0]\n",
        "\n",
        "print(f'\\nTrue Genre:'.ljust(16,' '), f'{true_genre}\\n')\n",
        "print(f'Predicted Genre: {predicted_genre}\\n')\n",
        "print(f'Plot: {text}\\n')\n",
        "print(\"-------------------------------------------\")"
      ],
      "execution_count": null,
      "outputs": []
    },
    {
      "cell_type": "code",
      "metadata": {
        "id": "qNLkkqI7jj0P"
      },
      "source": [
        "num = 0\n",
        "den = 0\n",
        "for i in range(len(eval_gt_labels)):\n",
        "  if predicted_genres[i] == eval_gt_labels[i]:\n",
        "    num += 1\n",
        "  den += 1\n",
        "\n",
        "print(num/den)"
      ],
      "execution_count": null,
      "outputs": []
    },
    {
      "cell_type": "code",
      "metadata": {
        "id": "T8rkYzpQceLz"
      },
      "source": [
        ""
      ],
      "execution_count": null,
      "outputs": []
    }
  ]
}